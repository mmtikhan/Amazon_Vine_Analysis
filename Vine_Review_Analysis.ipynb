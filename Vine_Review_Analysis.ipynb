{
  "nbformat": 4,
  "nbformat_minor": 0,
  "metadata": {
    "colab": {
      "name": "Vine_Review_Analysis.ipynb",
      "provenance": []
    },
    "kernelspec": {
      "name": "python3",
      "display_name": "Python 3"
    },
    "language_info": {
      "name": "python"
    }
  },
  "cells": [
    {
      "cell_type": "markdown",
      "source": [
        "Analyze the Vine DataFrame and determine if the Vine reviews are biased."
      ],
      "metadata": {
        "id": "4v2TmnKYzE_7"
      }
    },
    {
      "cell_type": "code",
      "source": [
        "import os\n",
        "# Find the latest version of spark 3.0 from http://www.apache.org/dist/spark/ and enter as the spark version\n",
        "# For example:\n",
        "# spark_version = 'spark-3.3'\n",
        "spark_version = 'spark-3.3.0'\n",
        "os.environ['SPARK_VERSION']=spark_version\n",
        "\n",
        "# Install Spark and Java\n",
        "!apt-get update\n",
        "!apt-get install openjdk-11-jdk-headless -qq > /dev/null\n",
        "!wget -q https://downloads.apache.org/spark/spark-3.3.0/spark-3.3.0-bin-hadoop2.tgz\n",
        "!tar xf $SPARK_VERSION-bin-hadoop2.tgz\n",
        "!pip install -q findspark\n",
        "\n",
        "# Set Environment Variables\n",
        "import os\n",
        "os.environ[\"JAVA_HOME\"] = \"/usr/lib/jvm/java-11-openjdk-amd64\"\n",
        "os.environ[\"SPARK_HOME\"] = f\"/content/{spark_version}-bin-hadoop2\"\n",
        "\n",
        "# Start a SparkSession\n",
        "import findspark\n",
        "findspark.init()"
      ],
      "metadata": {
        "colab": {
          "base_uri": "https://localhost:8080/"
        },
        "id": "cwFHY-rNzG7K",
        "outputId": "73be0dd0-6066-4d8f-f392-3acff3c0a715"
      },
      "execution_count": 1,
      "outputs": [
        {
          "output_type": "stream",
          "name": "stdout",
          "text": [
            "Get:1 https://cloud.r-project.org/bin/linux/ubuntu bionic-cran40/ InRelease [3,626 B]\n",
            "Get:2 http://security.ubuntu.com/ubuntu bionic-security InRelease [88.7 kB]\n",
            "Get:3 https://cloud.r-project.org/bin/linux/ubuntu bionic-cran40/ Packages [90.7 kB]\n",
            "Hit:4 http://archive.ubuntu.com/ubuntu bionic InRelease\n",
            "Get:5 http://ppa.launchpad.net/c2d4u.team/c2d4u4.0+/ubuntu bionic InRelease [15.9 kB]\n",
            "Ign:6 https://developer.download.nvidia.com/compute/machine-learning/repos/ubuntu1804/x86_64  InRelease\n",
            "Get:7 https://developer.download.nvidia.com/compute/cuda/repos/ubuntu1804/x86_64  InRelease [1,581 B]\n",
            "Hit:8 https://developer.download.nvidia.com/compute/machine-learning/repos/ubuntu1804/x86_64  Release\n",
            "Get:9 http://archive.ubuntu.com/ubuntu bionic-updates InRelease [88.7 kB]\n",
            "Hit:10 http://ppa.launchpad.net/cran/libgit2/ubuntu bionic InRelease\n",
            "Get:11 https://developer.download.nvidia.com/compute/cuda/repos/ubuntu1804/x86_64  Packages [903 kB]\n",
            "Get:12 http://archive.ubuntu.com/ubuntu bionic-backports InRelease [74.6 kB]\n",
            "Get:13 http://ppa.launchpad.net/deadsnakes/ppa/ubuntu bionic InRelease [15.9 kB]\n",
            "Get:15 http://ppa.launchpad.net/graphics-drivers/ppa/ubuntu bionic InRelease [21.3 kB]\n",
            "Get:16 http://security.ubuntu.com/ubuntu bionic-security/universe amd64 Packages [1,533 kB]\n",
            "Get:17 http://ppa.launchpad.net/c2d4u.team/c2d4u4.0+/ubuntu bionic/main Sources [2,076 kB]\n",
            "Get:18 http://archive.ubuntu.com/ubuntu bionic-updates/universe amd64 Packages [2,310 kB]\n",
            "Get:19 http://security.ubuntu.com/ubuntu bionic-security/restricted amd64 Packages [1,100 kB]\n",
            "Get:20 http://security.ubuntu.com/ubuntu bionic-security/main amd64 Packages [2,937 kB]\n",
            "Get:21 http://archive.ubuntu.com/ubuntu bionic-updates/restricted amd64 Packages [1,141 kB]\n",
            "Get:22 http://archive.ubuntu.com/ubuntu bionic-updates/main amd64 Packages [3,369 kB]\n",
            "Get:23 http://ppa.launchpad.net/c2d4u.team/c2d4u4.0+/ubuntu bionic/main amd64 Packages [1,064 kB]\n",
            "Get:24 http://ppa.launchpad.net/deadsnakes/ppa/ubuntu bionic/main amd64 Packages [45.3 kB]\n",
            "Get:25 http://ppa.launchpad.net/graphics-drivers/ppa/ubuntu bionic/main amd64 Packages [47.7 kB]\n",
            "Fetched 16.9 MB in 8s (2,038 kB/s)\n",
            "Reading package lists... Done\n"
          ]
        }
      ]
    },
    {
      "cell_type": "code",
      "source": [
        "\n",
        "\n",
        "from pyspark.sql import SparkSession\n",
        "spark = SparkSession.builder.appName(\"BigData-Challenge\").getOrCreate()\n",
        "\n"
      ],
      "metadata": {
        "id": "HWs0HbbUzvYG"
      },
      "execution_count": 2,
      "outputs": []
    },
    {
      "cell_type": "code",
      "source": [
        "\n",
        "from pyspark import SparkFiles\n",
        "\n",
        "url = \"https://s3.amazonaws.com/amazon-reviews-pds/tsv/amazon_reviews_us_Video_Games_v1_00.tsv.gz\"\n",
        "spark.sparkContext.addFile(url)\n",
        "video_games_df = spark.read.csv(SparkFiles.get(\"amazon_reviews_us_Video_Games_v1_00.tsv.gz\"), sep=\"\\t\", header=True, inferSchema=True)\n",
        "\n",
        "video_games_df.show(10)"
      ],
      "metadata": {
        "colab": {
          "base_uri": "https://localhost:8080/"
        },
        "id": "ZYaotyi-zzdP",
        "outputId": "57cf3589-cb25-4b27-dced-372bdef9a21b"
      },
      "execution_count": 3,
      "outputs": [
        {
          "output_type": "stream",
          "name": "stdout",
          "text": [
            "+-----------+-----------+--------------+----------+--------------+--------------------+----------------+-----------+-------------+-----------+----+-----------------+--------------------+--------------------+-------------------+\n",
            "|marketplace|customer_id|     review_id|product_id|product_parent|       product_title|product_category|star_rating|helpful_votes|total_votes|vine|verified_purchase|     review_headline|         review_body|        review_date|\n",
            "+-----------+-----------+--------------+----------+--------------+--------------------+----------------+-----------+-------------+-----------+----+-----------------+--------------------+--------------------+-------------------+\n",
            "|         US|   12039526| RTIS3L2M1F5SM|B001CXYMFS|     737716809|Thrustmaster T-Fl...|     Video Games|          5|            0|          0|   N|                Y|an amazing joysti...|Used this for Eli...|2015-08-31 00:00:00|\n",
            "|         US|    9636577| R1ZV7R40OLHKD|B00M920ND6|     569686175|Tonsee 6 buttons ...|     Video Games|          5|            0|          0|   N|                Y|Definitely a sile...|Loved it,  I didn...|2015-08-31 00:00:00|\n",
            "|         US|    2331478|R3BH071QLH8QMC|B0029CSOD2|      98937668|Hidden Mysteries:...|     Video Games|          1|            0|          1|   N|                Y|            One Star|poor quality work...|2015-08-31 00:00:00|\n",
            "|         US|   52495923|R127K9NTSXA2YH|B00GOOSV98|      23143350|GelTabz Performan...|     Video Games|          3|            0|          0|   N|                Y|good, but could b...|nice, but tend to...|2015-08-31 00:00:00|\n",
            "|         US|   14533949|R32ZWUXDJPW27Q|B00Y074JOM|     821342511|Zero Suit Samus a...|     Video Games|          4|            0|          0|   N|                Y|   Great but flawed.|Great amiibo, gre...|2015-08-31 00:00:00|\n",
            "|         US|    2377552|R3AQQ4YUKJWBA6|B002UBI6W6|     328764615|Psyclone Recharge...|     Video Games|          1|            0|          0|   N|                Y|            One Star|The remote consta...|2015-08-31 00:00:00|\n",
            "|         US|   17521011|R2F0POU5K6F73F|B008XHCLFO|      24234603|Protection for yo...|     Video Games|          5|            0|          0|   N|                Y|              A Must|I have a 2012-201...|2015-08-31 00:00:00|\n",
            "|         US|   19676307|R3VNR804HYSMR6|B00BRA9R6A|     682267517|   Nerf 3DS XL Armor|     Video Games|          5|            0|          0|   N|                Y|          Five Stars|Perfect, kids lov...|2015-08-31 00:00:00|\n",
            "|         US|     224068| R3GZTM72WA2QH|B009EPWJLA|     435241890|One Piece: Pirate...|     Video Games|          5|            0|          0|   N|                Y|          Five Stars|            Excelent|2015-08-31 00:00:00|\n",
            "|         US|   48467989| RNQOY62705W1K|B0000AV7GB|     256572651|Playstation 2 Dan...|     Video Games|          4|            0|          0|   N|                Y|          Four Stars|Slippery but expe...|2015-08-31 00:00:00|\n",
            "+-----------+-----------+--------------+----------+--------------+--------------------+----------------+-----------+-------------+-----------+----+-----------------+--------------------+--------------------+-------------------+\n",
            "only showing top 10 rows\n",
            "\n"
          ]
        }
      ]
    },
    {
      "cell_type": "code",
      "source": [
        "\n",
        "\n",
        "\n",
        "dropna_df = video_games_df.dropna()\n",
        "clean_df = dropna_df.drop_duplicates()\n",
        "clean_df.show(10)\n",
        "\n"
      ],
      "metadata": {
        "colab": {
          "base_uri": "https://localhost:8080/"
        },
        "id": "o3uSjNsb0Nx9",
        "outputId": "7e31375f-0713-428c-e1ce-eed1c2bdf8d4"
      },
      "execution_count": 4,
      "outputs": [
        {
          "output_type": "stream",
          "name": "stdout",
          "text": [
            "+-----------+-----------+--------------+----------+--------------+--------------------+----------------+-----------+-------------+-----------+----+-----------------+--------------------+--------------------+-------------------+\n",
            "|marketplace|customer_id|     review_id|product_id|product_parent|       product_title|product_category|star_rating|helpful_votes|total_votes|vine|verified_purchase|     review_headline|         review_body|        review_date|\n",
            "+-----------+-----------+--------------+----------+--------------+--------------------+----------------+-----------+-------------+-----------+----+-----------------+--------------------+--------------------+-------------------+\n",
            "|         US|   20009611|R100E0YCS06YNR|B00EFFW0HC|     277685961|       Battlefield 4|     Video Games|          5|            0|          0|   N|                Y|          Five Stars|     great thank you|2015-07-04 00:00:00|\n",
            "|         US|   21036809|R100HR44BSB9I4|B007FTE2VW|     265303108|SimCity - Limited...|     Video Games|          1|            1|          1|   N|                Y|     Terrible Launch|I would love to r...|2013-03-07 00:00:00|\n",
            "|         US|    4444018|R100UABZOUF1JP|B005HN5LKY|     148114874|Gen AC Adapter Po...|     Video Games|          1|            0|          0|   N|                Y|Broken when deliv...|It was broken whe...|2015-08-17 00:00:00|\n",
            "|         US|   51581032|R101MOW8A5WC4J|B009LEIUY4|     563376217|Etrian Odyssey IV...|     Video Games|          5|            0|          0|   N|                Y|Great use of the ...|The first in the ...|2014-08-16 00:00:00|\n",
            "|         US|   41543132|R101X7KSBGIWF1|B00004UC1W|     940154393|eGames Bingo CD P...|     Video Games|          1|            0|          0|   N|                Y|            One Star|would not open re...|2014-12-28 00:00:00|\n",
            "|         US|    2074450|R101ZTSTDC8KQ4|B006WN5UM2|     304022369|Xia-Xia - Nintend...|     Video Games|          5|            0|          0|   N|                Y|didn't know what ...|Glad I bought thi...|2014-03-10 00:00:00|\n",
            "|         US|   11407363|R103Q4U55JZAD1|B0025KZV7A|     130147097|Left 4 Dead - Nin...|     Video Games|          5|            0|          0|   N|                Y|          great game|I purchased this ...|2011-09-06 00:00:00|\n",
            "|         US|   10547153|R103SW6BLR1HH6|B004ACGO0Y|     540734971|Wii Headbanger Ch...|     Video Games|          5|            0|          0|   N|                Y|A must for COD: B...|It's a must have ...|2011-09-25 00:00:00|\n",
            "|         US|   15338940|R1048AZPZ1XQVY|B005XTRC7M|     325268333|TV Anime: Fairy T...|     Video Games|          4|            0|          0|   N|                Y|          Four Stars|oops! its in japa...|2015-01-22 00:00:00|\n",
            "|         US|   49041788|R104C56FZRE21Q|B001US6O2Y|     855199089|KMD Gamecube Exte...|     Video Games|          5|            0|          0|   N|                Y|Extra length mean...|It does exactly w...|2015-05-20 00:00:00|\n",
            "+-----------+-----------+--------------+----------+--------------+--------------------+----------------+-----------+-------------+-----------+----+-----------------+--------------------+--------------------+-------------------+\n",
            "only showing top 10 rows\n",
            "\n"
          ]
        }
      ]
    },
    {
      "cell_type": "code",
      "source": [
        "vine_df = clean_df.select([\"review_id\", \"star_rating\", \"helpful_votes\", \"total_votes\", \"vine\", \"verified_purchase\"])\n",
        "vine_df.show(5)"
      ],
      "metadata": {
        "colab": {
          "base_uri": "https://localhost:8080/"
        },
        "id": "aw2VVKSr0i3A",
        "outputId": "ba304814-e24f-41bb-d305-443b77572caa"
      },
      "execution_count": 5,
      "outputs": [
        {
          "output_type": "stream",
          "name": "stdout",
          "text": [
            "+--------------+-----------+-------------+-----------+----+-----------------+\n",
            "|     review_id|star_rating|helpful_votes|total_votes|vine|verified_purchase|\n",
            "+--------------+-----------+-------------+-----------+----+-----------------+\n",
            "|R100E0YCS06YNR|          5|            0|          0|   N|                Y|\n",
            "|R100HR44BSB9I4|          1|            1|          1|   N|                Y|\n",
            "|R100UABZOUF1JP|          1|            0|          0|   N|                Y|\n",
            "|R101MOW8A5WC4J|          5|            0|          0|   N|                Y|\n",
            "|R101X7KSBGIWF1|          1|            0|          0|   N|                Y|\n",
            "+--------------+-----------+-------------+-----------+----+-----------------+\n",
            "only showing top 5 rows\n",
            "\n"
          ]
        }
      ]
    },
    {
      "cell_type": "code",
      "source": [
        "df2 = vine_df.filter(vine_df[\"total_votes\"] >= 20)\n",
        "df2.show(5)"
      ],
      "metadata": {
        "colab": {
          "base_uri": "https://localhost:8080/"
        },
        "id": "-bY1II4X0zcc",
        "outputId": "0fc1d78f-d2fc-483f-d3b2-e7bfa8bcc380"
      },
      "execution_count": 6,
      "outputs": [
        {
          "output_type": "stream",
          "name": "stdout",
          "text": [
            "+--------------+-----------+-------------+-----------+----+-----------------+\n",
            "|     review_id|star_rating|helpful_votes|total_votes|vine|verified_purchase|\n",
            "+--------------+-----------+-------------+-----------+----+-----------------+\n",
            "|R23Z2K6GIQ2E6O|          4|           19|         20|   N|                Y|\n",
            "|R2SSU7RT61AYK2|          4|           87|         98|   N|                Y|\n",
            "| RPRP6F6ABCLLK|          2|           28|         39|   N|                Y|\n",
            "| RGOVXI764T1KO|          1|            5|         23|   N|                Y|\n",
            "|R39UPDNM5TECB5|          5|           23|         23|   N|                N|\n",
            "+--------------+-----------+-------------+-----------+----+-----------------+\n",
            "only showing top 5 rows\n",
            "\n"
          ]
        }
      ]
    },
    {
      "cell_type": "code",
      "source": [
        "df3 = df2.filter(df2[\"helpful_votes\"]/df2[\"total_votes\"] >= 0.5)\n",
        "df3.show(5)"
      ],
      "metadata": {
        "colab": {
          "base_uri": "https://localhost:8080/"
        },
        "id": "WTILGonm05NI",
        "outputId": "da2203e4-31b1-4b5a-aecf-5da276935841"
      },
      "execution_count": 7,
      "outputs": [
        {
          "output_type": "stream",
          "name": "stdout",
          "text": [
            "+--------------+-----------+-------------+-----------+----+-----------------+\n",
            "|     review_id|star_rating|helpful_votes|total_votes|vine|verified_purchase|\n",
            "+--------------+-----------+-------------+-----------+----+-----------------+\n",
            "|R23Z2K6GIQ2E6O|          4|           19|         20|   N|                Y|\n",
            "|R2SSU7RT61AYK2|          4|           87|         98|   N|                Y|\n",
            "| RPRP6F6ABCLLK|          2|           28|         39|   N|                Y|\n",
            "|R39UPDNM5TECB5|          5|           23|         23|   N|                N|\n",
            "|R2RW4T8KWXQXZQ|          1|           40|         65|   N|                N|\n",
            "+--------------+-----------+-------------+-----------+----+-----------------+\n",
            "only showing top 5 rows\n",
            "\n"
          ]
        }
      ]
    },
    {
      "cell_type": "code",
      "source": [
        "vine_yes_df = df3.filter(df3[\"vine\"] == \"Y\")\n",
        "vine_yes_df.show(5)"
      ],
      "metadata": {
        "colab": {
          "base_uri": "https://localhost:8080/"
        },
        "id": "7Un8OYM30_h0",
        "outputId": "6951f289-8e55-4218-d2c5-0010f27d0cd5"
      },
      "execution_count": 8,
      "outputs": [
        {
          "output_type": "stream",
          "name": "stdout",
          "text": [
            "+--------------+-----------+-------------+-----------+----+-----------------+\n",
            "|     review_id|star_rating|helpful_votes|total_votes|vine|verified_purchase|\n",
            "+--------------+-----------+-------------+-----------+----+-----------------+\n",
            "|R1PU7JY8XL5M1N|          5|           19|         24|   Y|                N|\n",
            "|R23WY68NT94WKE|          5|          125|        143|   Y|                N|\n",
            "|R1JRR530H4COA2|          5|           22|         28|   Y|                N|\n",
            "|R1UBDJF7PWB8BL|          2|           43|         59|   Y|                N|\n",
            "|R1TNOMT3O5DZ0Z|          4|           27|         32|   Y|                N|\n",
            "+--------------+-----------+-------------+-----------+----+-----------------+\n",
            "only showing top 5 rows\n",
            "\n"
          ]
        }
      ]
    },
    {
      "cell_type": "code",
      "source": [
        "from pyspark.sql.functions import col, avg"
      ],
      "metadata": {
        "id": "WiIL6hDU1FAc"
      },
      "execution_count": 9,
      "outputs": []
    },
    {
      "cell_type": "code",
      "source": [
        "vine_yes_df.describe().show()"
      ],
      "metadata": {
        "colab": {
          "base_uri": "https://localhost:8080/"
        },
        "id": "sjhK6a8P1Ihn",
        "outputId": "b3863955-d4b4-4388-c0bd-5968346cefd7"
      },
      "execution_count": 10,
      "outputs": [
        {
          "output_type": "stream",
          "name": "stdout",
          "text": [
            "+-------+--------------+------------------+-----------------+------------------+----+-----------------+\n",
            "|summary|     review_id|       star_rating|    helpful_votes|       total_votes|vine|verified_purchase|\n",
            "+-------+--------------+------------------+-----------------+------------------+----+-----------------+\n",
            "|  count|            94|                94|               94|                94|  94|               94|\n",
            "|   mean|          null| 4.202127659574468|54.59574468085106|61.787234042553195|null|             null|\n",
            "| stddev|          null|0.9791348741656417|65.26098459822538| 68.90976994895394|null|             null|\n",
            "|    min|R10FO5UKKVZBK2|                 1|               14|                20|   Y|                N|\n",
            "|    max| RYBLWBAL5M1AY|                 5|              347|               362|   Y|                N|\n",
            "+-------+--------------+------------------+-----------------+------------------+----+-----------------+\n",
            "\n"
          ]
        }
      ]
    },
    {
      "cell_type": "code",
      "source": [
        "vine_no_df = df3.filter(df3[\"vine\"] == \"N\")\n",
        "vine_no_df.show(5)"
      ],
      "metadata": {
        "colab": {
          "base_uri": "https://localhost:8080/"
        },
        "id": "WM2M-Rhq1Q8m",
        "outputId": "a87f6e8c-830d-4613-b73e-144be6ea6e52"
      },
      "execution_count": 11,
      "outputs": [
        {
          "output_type": "stream",
          "name": "stdout",
          "text": [
            "+--------------+-----------+-------------+-----------+----+-----------------+\n",
            "|     review_id|star_rating|helpful_votes|total_votes|vine|verified_purchase|\n",
            "+--------------+-----------+-------------+-----------+----+-----------------+\n",
            "|R23Z2K6GIQ2E6O|          4|           19|         20|   N|                Y|\n",
            "|R2SSU7RT61AYK2|          4|           87|         98|   N|                Y|\n",
            "| RPRP6F6ABCLLK|          2|           28|         39|   N|                Y|\n",
            "|R39UPDNM5TECB5|          5|           23|         23|   N|                N|\n",
            "|R2RW4T8KWXQXZQ|          1|           40|         65|   N|                N|\n",
            "+--------------+-----------+-------------+-----------+----+-----------------+\n",
            "only showing top 5 rows\n",
            "\n"
          ]
        }
      ]
    },
    {
      "cell_type": "code",
      "source": [
        "paid_five_star_review = vine_yes_df[vine_yes_df['star_rating']== 5].count()\n",
        "paid_review = vine_yes_df.count()\n",
        "percentage_vine = float(paid_five_star_review) / float(paid_review)\n",
        "\n",
        "print(f\"total paid reviews: {paid_review}\")\n",
        "print(f\"paid reviewss with 5-stars: {paid_five_star_review}\")\n",
        "print(f\"% of paid 5-star reviews: {percentage_vine}\")"
      ],
      "metadata": {
        "colab": {
          "base_uri": "https://localhost:8080/"
        },
        "id": "Jjy51maC1ePd",
        "outputId": "1d398e61-9c66-4fda-d7e1-8748a60292f5"
      },
      "execution_count": 13,
      "outputs": [
        {
          "output_type": "stream",
          "name": "stdout",
          "text": [
            "total paid reviews: 94\n",
            "paid reviewss with 5-stars: 48\n",
            "% of paid 5-star reviews: 0.5106382978723404\n"
          ]
        }
      ]
    },
    {
      "cell_type": "code",
      "source": [
        "unpaid_five_star_reviews = vine_no_df[vine_no_df['star_rating']== 5].count()\n",
        "unpaid_reviews = vine_no_df.count()\n",
        "unpaid_percentage_5_star = float(unpaid_five_star_reviews) / float(unpaid_reviews)\n",
        "\n",
        "print(f\"total of unpaid reviews: {unpaid_reviews}\")\n",
        "print(f\"unpaid 5-star reviews: {unpaid_five_star_reviews}\")\n",
        "print(f\"% of unpaid 5-star reviews: {unpaid_percentage_5_star}\")"
      ],
      "metadata": {
        "colab": {
          "base_uri": "https://localhost:8080/"
        },
        "id": "-4_TNHMQ2ZQT",
        "outputId": "53266cf2-6394-40e6-b545-786105a2418e"
      },
      "execution_count": 14,
      "outputs": [
        {
          "output_type": "stream",
          "name": "stdout",
          "text": [
            "total of unpaid reviews: 40471\n",
            "unpaid 5-star reviews: 15663\n",
            "% of unpaid 5-star reviews: 0.38701786464381904\n"
          ]
        }
      ]
    }
  ]
}